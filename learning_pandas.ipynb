{
  "nbformat": 4,
  "nbformat_minor": 0,
  "metadata": {
    "colab": {
      "name": "learning pandas ",
      "provenance": [],
      "collapsed_sections": [],
      "mount_file_id": "1goGDsrwuP5f0khUB3aJLdTv93sOaa0kb",
      "authorship_tag": "ABX9TyNwaFWBll+qUvqLmX5NPhJ7",
      "include_colab_link": true
    },
    "kernelspec": {
      "name": "python3",
      "display_name": "Python 3"
    }
  },
  "cells": [
    {
      "cell_type": "markdown",
      "metadata": {
        "id": "view-in-github",
        "colab_type": "text"
      },
      "source": [
        "<a href=\"https://colab.research.google.com/github/YashMistry1406/Machine_learning_stuff/blob/main/learning_pandas.ipynb\" target=\"_parent\"><img src=\"https://colab.research.google.com/assets/colab-badge.svg\" alt=\"Open In Colab\"/></a>"
      ]
    },
    {
      "cell_type": "code",
      "metadata": {
        "id": "zva7RR6rY8zO"
      },
      "source": [
        "import pandas as pd\n"
      ],
      "execution_count": null,
      "outputs": []
    },
    {
      "cell_type": "code",
      "metadata": {
        "colab": {
          "base_uri": "https://localhost:8080/"
        },
        "id": "KmtoYyQbbBxh",
        "outputId": "e6edef29-fac0-433b-f5b2-defdcee6ea13"
      },
      "source": [
        "from google.colab import drive\n",
        "drive.mount('/content/drive')"
      ],
      "execution_count": null,
      "outputs": [
        {
          "output_type": "stream",
          "text": [
            "Drive already mounted at /content/drive; to attempt to forcibly remount, call drive.mount(\"/content/drive\", force_remount=True).\n"
          ],
          "name": "stdout"
        }
      ]
    },
    {
      "cell_type": "code",
      "metadata": {
        "id": "mkFTIOenWFMv"
      },
      "source": [
        "df= pd.read_csv(\"/content/sample_data/california_housing_train.csv\")"
      ],
      "execution_count": null,
      "outputs": []
    },
    {
      "cell_type": "code",
      "metadata": {
        "colab": {
          "base_uri": "https://localhost:8080/",
          "height": 317
        },
        "id": "8KeL1cKramt_",
        "outputId": "fbfd351b-b0cd-4fba-ade6-dcba32e4a3ef"
      },
      "source": [
        "df.describe()"
      ],
      "execution_count": null,
      "outputs": [
        {
          "output_type": "execute_result",
          "data": {
            "text/html": [
              "<div>\n",
              "<style scoped>\n",
              "    .dataframe tbody tr th:only-of-type {\n",
              "        vertical-align: middle;\n",
              "    }\n",
              "\n",
              "    .dataframe tbody tr th {\n",
              "        vertical-align: top;\n",
              "    }\n",
              "\n",
              "    .dataframe thead th {\n",
              "        text-align: right;\n",
              "    }\n",
              "</style>\n",
              "<table border=\"1\" class=\"dataframe\">\n",
              "  <thead>\n",
              "    <tr style=\"text-align: right;\">\n",
              "      <th></th>\n",
              "      <th>longitude</th>\n",
              "      <th>latitude</th>\n",
              "      <th>housing_median_age</th>\n",
              "      <th>total_rooms</th>\n",
              "      <th>total_bedrooms</th>\n",
              "      <th>population</th>\n",
              "      <th>households</th>\n",
              "      <th>median_income</th>\n",
              "      <th>median_house_value</th>\n",
              "    </tr>\n",
              "  </thead>\n",
              "  <tbody>\n",
              "    <tr>\n",
              "      <th>count</th>\n",
              "      <td>17000.000000</td>\n",
              "      <td>17000.000000</td>\n",
              "      <td>17000.000000</td>\n",
              "      <td>17000.000000</td>\n",
              "      <td>17000.000000</td>\n",
              "      <td>17000.000000</td>\n",
              "      <td>17000.000000</td>\n",
              "      <td>17000.000000</td>\n",
              "      <td>17000.000000</td>\n",
              "    </tr>\n",
              "    <tr>\n",
              "      <th>mean</th>\n",
              "      <td>-119.562108</td>\n",
              "      <td>35.625225</td>\n",
              "      <td>28.589353</td>\n",
              "      <td>2643.664412</td>\n",
              "      <td>539.410824</td>\n",
              "      <td>1429.573941</td>\n",
              "      <td>501.221941</td>\n",
              "      <td>3.883578</td>\n",
              "      <td>207300.912353</td>\n",
              "    </tr>\n",
              "    <tr>\n",
              "      <th>std</th>\n",
              "      <td>2.005166</td>\n",
              "      <td>2.137340</td>\n",
              "      <td>12.586937</td>\n",
              "      <td>2179.947071</td>\n",
              "      <td>421.499452</td>\n",
              "      <td>1147.852959</td>\n",
              "      <td>384.520841</td>\n",
              "      <td>1.908157</td>\n",
              "      <td>115983.764387</td>\n",
              "    </tr>\n",
              "    <tr>\n",
              "      <th>min</th>\n",
              "      <td>-124.350000</td>\n",
              "      <td>32.540000</td>\n",
              "      <td>1.000000</td>\n",
              "      <td>2.000000</td>\n",
              "      <td>1.000000</td>\n",
              "      <td>3.000000</td>\n",
              "      <td>1.000000</td>\n",
              "      <td>0.499900</td>\n",
              "      <td>14999.000000</td>\n",
              "    </tr>\n",
              "    <tr>\n",
              "      <th>25%</th>\n",
              "      <td>-121.790000</td>\n",
              "      <td>33.930000</td>\n",
              "      <td>18.000000</td>\n",
              "      <td>1462.000000</td>\n",
              "      <td>297.000000</td>\n",
              "      <td>790.000000</td>\n",
              "      <td>282.000000</td>\n",
              "      <td>2.566375</td>\n",
              "      <td>119400.000000</td>\n",
              "    </tr>\n",
              "    <tr>\n",
              "      <th>50%</th>\n",
              "      <td>-118.490000</td>\n",
              "      <td>34.250000</td>\n",
              "      <td>29.000000</td>\n",
              "      <td>2127.000000</td>\n",
              "      <td>434.000000</td>\n",
              "      <td>1167.000000</td>\n",
              "      <td>409.000000</td>\n",
              "      <td>3.544600</td>\n",
              "      <td>180400.000000</td>\n",
              "    </tr>\n",
              "    <tr>\n",
              "      <th>75%</th>\n",
              "      <td>-118.000000</td>\n",
              "      <td>37.720000</td>\n",
              "      <td>37.000000</td>\n",
              "      <td>3151.250000</td>\n",
              "      <td>648.250000</td>\n",
              "      <td>1721.000000</td>\n",
              "      <td>605.250000</td>\n",
              "      <td>4.767000</td>\n",
              "      <td>265000.000000</td>\n",
              "    </tr>\n",
              "    <tr>\n",
              "      <th>max</th>\n",
              "      <td>-114.310000</td>\n",
              "      <td>41.950000</td>\n",
              "      <td>52.000000</td>\n",
              "      <td>37937.000000</td>\n",
              "      <td>6445.000000</td>\n",
              "      <td>35682.000000</td>\n",
              "      <td>6082.000000</td>\n",
              "      <td>15.000100</td>\n",
              "      <td>500001.000000</td>\n",
              "    </tr>\n",
              "  </tbody>\n",
              "</table>\n",
              "</div>"
            ],
            "text/plain": [
              "          longitude      latitude  ...  median_income  median_house_value\n",
              "count  17000.000000  17000.000000  ...   17000.000000        17000.000000\n",
              "mean    -119.562108     35.625225  ...       3.883578       207300.912353\n",
              "std        2.005166      2.137340  ...       1.908157       115983.764387\n",
              "min     -124.350000     32.540000  ...       0.499900        14999.000000\n",
              "25%     -121.790000     33.930000  ...       2.566375       119400.000000\n",
              "50%     -118.490000     34.250000  ...       3.544600       180400.000000\n",
              "75%     -118.000000     37.720000  ...       4.767000       265000.000000\n",
              "max     -114.310000     41.950000  ...      15.000100       500001.000000\n",
              "\n",
              "[8 rows x 9 columns]"
            ]
          },
          "metadata": {
            "tags": []
          },
          "execution_count": 4
        }
      ]
    },
    {
      "cell_type": "code",
      "metadata": {
        "colab": {
          "base_uri": "https://localhost:8080/",
          "height": 224
        },
        "id": "Cw8ncNzsb1Hm",
        "outputId": "73783f7e-bc2d-44e6-cb81-89f918ed20f8"
      },
      "source": [
        "df.head()"
      ],
      "execution_count": null,
      "outputs": [
        {
          "output_type": "execute_result",
          "data": {
            "text/html": [
              "<div>\n",
              "<style scoped>\n",
              "    .dataframe tbody tr th:only-of-type {\n",
              "        vertical-align: middle;\n",
              "    }\n",
              "\n",
              "    .dataframe tbody tr th {\n",
              "        vertical-align: top;\n",
              "    }\n",
              "\n",
              "    .dataframe thead th {\n",
              "        text-align: right;\n",
              "    }\n",
              "</style>\n",
              "<table border=\"1\" class=\"dataframe\">\n",
              "  <thead>\n",
              "    <tr style=\"text-align: right;\">\n",
              "      <th></th>\n",
              "      <th>longitude</th>\n",
              "      <th>latitude</th>\n",
              "      <th>housing_median_age</th>\n",
              "      <th>total_rooms</th>\n",
              "      <th>total_bedrooms</th>\n",
              "      <th>population</th>\n",
              "      <th>households</th>\n",
              "      <th>median_income</th>\n",
              "      <th>median_house_value</th>\n",
              "    </tr>\n",
              "  </thead>\n",
              "  <tbody>\n",
              "    <tr>\n",
              "      <th>0</th>\n",
              "      <td>-114.31</td>\n",
              "      <td>34.19</td>\n",
              "      <td>15.0</td>\n",
              "      <td>5612.0</td>\n",
              "      <td>1283.0</td>\n",
              "      <td>1015.0</td>\n",
              "      <td>472.0</td>\n",
              "      <td>1.4936</td>\n",
              "      <td>66900.0</td>\n",
              "    </tr>\n",
              "    <tr>\n",
              "      <th>1</th>\n",
              "      <td>-114.47</td>\n",
              "      <td>34.40</td>\n",
              "      <td>19.0</td>\n",
              "      <td>7650.0</td>\n",
              "      <td>1901.0</td>\n",
              "      <td>1129.0</td>\n",
              "      <td>463.0</td>\n",
              "      <td>1.8200</td>\n",
              "      <td>80100.0</td>\n",
              "    </tr>\n",
              "    <tr>\n",
              "      <th>2</th>\n",
              "      <td>-114.56</td>\n",
              "      <td>33.69</td>\n",
              "      <td>17.0</td>\n",
              "      <td>720.0</td>\n",
              "      <td>174.0</td>\n",
              "      <td>333.0</td>\n",
              "      <td>117.0</td>\n",
              "      <td>1.6509</td>\n",
              "      <td>85700.0</td>\n",
              "    </tr>\n",
              "    <tr>\n",
              "      <th>3</th>\n",
              "      <td>-114.57</td>\n",
              "      <td>33.64</td>\n",
              "      <td>14.0</td>\n",
              "      <td>1501.0</td>\n",
              "      <td>337.0</td>\n",
              "      <td>515.0</td>\n",
              "      <td>226.0</td>\n",
              "      <td>3.1917</td>\n",
              "      <td>73400.0</td>\n",
              "    </tr>\n",
              "    <tr>\n",
              "      <th>4</th>\n",
              "      <td>-114.57</td>\n",
              "      <td>33.57</td>\n",
              "      <td>20.0</td>\n",
              "      <td>1454.0</td>\n",
              "      <td>326.0</td>\n",
              "      <td>624.0</td>\n",
              "      <td>262.0</td>\n",
              "      <td>1.9250</td>\n",
              "      <td>65500.0</td>\n",
              "    </tr>\n",
              "  </tbody>\n",
              "</table>\n",
              "</div>"
            ],
            "text/plain": [
              "   longitude  latitude  ...  median_income  median_house_value\n",
              "0    -114.31     34.19  ...         1.4936             66900.0\n",
              "1    -114.47     34.40  ...         1.8200             80100.0\n",
              "2    -114.56     33.69  ...         1.6509             85700.0\n",
              "3    -114.57     33.64  ...         3.1917             73400.0\n",
              "4    -114.57     33.57  ...         1.9250             65500.0\n",
              "\n",
              "[5 rows x 9 columns]"
            ]
          },
          "metadata": {
            "tags": []
          },
          "execution_count": 5
        }
      ]
    },
    {
      "cell_type": "code",
      "metadata": {
        "colab": {
          "base_uri": "https://localhost:8080/"
        },
        "id": "BrI3TE0wcJPo",
        "outputId": "94596c64-b9d5-4619-d060-96a8677be62b"
      },
      "source": [
        "df.population"
      ],
      "execution_count": null,
      "outputs": [
        {
          "output_type": "execute_result",
          "data": {
            "text/plain": [
              "0        1015.0\n",
              "1        1129.0\n",
              "2         333.0\n",
              "3         515.0\n",
              "4         624.0\n",
              "          ...  \n",
              "16995     907.0\n",
              "16996    1194.0\n",
              "16997    1244.0\n",
              "16998    1298.0\n",
              "16999     806.0\n",
              "Name: population, Length: 17000, dtype: float64"
            ]
          },
          "metadata": {
            "tags": []
          },
          "execution_count": 6
        }
      ]
    },
    {
      "cell_type": "code",
      "metadata": {
        "colab": {
          "base_uri": "https://localhost:8080/"
        },
        "id": "R-jYyic2cYqq",
        "outputId": "7c72987f-0b11-4d30-b024-0ab22a448842"
      },
      "source": [
        "df['median_income']"
      ],
      "execution_count": null,
      "outputs": [
        {
          "output_type": "execute_result",
          "data": {
            "text/plain": [
              "0        1.4936\n",
              "1        1.8200\n",
              "2        1.6509\n",
              "3        3.1917\n",
              "4        1.9250\n",
              "          ...  \n",
              "16995    2.3571\n",
              "16996    2.5179\n",
              "16997    3.0313\n",
              "16998    1.9797\n",
              "16999    3.0147\n",
              "Name: median_income, Length: 17000, dtype: float64"
            ]
          },
          "metadata": {
            "tags": []
          },
          "execution_count": 7
        }
      ]
    },
    {
      "cell_type": "code",
      "metadata": {
        "colab": {
          "base_uri": "https://localhost:8080/"
        },
        "id": "9AlIy85ZcfY9",
        "outputId": "179e12ab-82b1-4183-ab9b-87b318cb8120"
      },
      "source": [
        "df.iloc[:,3\n",
        "        ]"
      ],
      "execution_count": null,
      "outputs": [
        {
          "output_type": "execute_result",
          "data": {
            "text/plain": [
              "0        5612.0\n",
              "1        7650.0\n",
              "2         720.0\n",
              "3        1501.0\n",
              "4        1454.0\n",
              "          ...  \n",
              "16995    2217.0\n",
              "16996    2349.0\n",
              "16997    2677.0\n",
              "16998    2672.0\n",
              "16999    1820.0\n",
              "Name: total_rooms, Length: 17000, dtype: float64"
            ]
          },
          "metadata": {
            "tags": []
          },
          "execution_count": 8
        }
      ]
    },
    {
      "cell_type": "code",
      "metadata": {
        "colab": {
          "base_uri": "https://localhost:8080/",
          "height": 439
        },
        "id": "WlGD1lLqcuqw",
        "outputId": "bbab882f-f0fd-431a-f9ec-dfaadca4c0a4"
      },
      "source": [
        "df.loc[df.housing_median_age==20]"
      ],
      "execution_count": null,
      "outputs": [
        {
          "output_type": "execute_result",
          "data": {
            "text/html": [
              "<div>\n",
              "<style scoped>\n",
              "    .dataframe tbody tr th:only-of-type {\n",
              "        vertical-align: middle;\n",
              "    }\n",
              "\n",
              "    .dataframe tbody tr th {\n",
              "        vertical-align: top;\n",
              "    }\n",
              "\n",
              "    .dataframe thead th {\n",
              "        text-align: right;\n",
              "    }\n",
              "</style>\n",
              "<table border=\"1\" class=\"dataframe\">\n",
              "  <thead>\n",
              "    <tr style=\"text-align: right;\">\n",
              "      <th></th>\n",
              "      <th>longitude</th>\n",
              "      <th>latitude</th>\n",
              "      <th>housing_median_age</th>\n",
              "      <th>total_rooms</th>\n",
              "      <th>total_bedrooms</th>\n",
              "      <th>population</th>\n",
              "      <th>households</th>\n",
              "      <th>median_income</th>\n",
              "      <th>median_house_value</th>\n",
              "    </tr>\n",
              "  </thead>\n",
              "  <tbody>\n",
              "    <tr>\n",
              "      <th>4</th>\n",
              "      <td>-114.57</td>\n",
              "      <td>33.57</td>\n",
              "      <td>20.0</td>\n",
              "      <td>1454.0</td>\n",
              "      <td>326.0</td>\n",
              "      <td>624.0</td>\n",
              "      <td>262.0</td>\n",
              "      <td>1.9250</td>\n",
              "      <td>65500.0</td>\n",
              "    </tr>\n",
              "    <tr>\n",
              "      <th>20</th>\n",
              "      <td>-114.68</td>\n",
              "      <td>33.49</td>\n",
              "      <td>20.0</td>\n",
              "      <td>1491.0</td>\n",
              "      <td>360.0</td>\n",
              "      <td>1135.0</td>\n",
              "      <td>303.0</td>\n",
              "      <td>1.6395</td>\n",
              "      <td>44400.0</td>\n",
              "    </tr>\n",
              "    <tr>\n",
              "      <th>22</th>\n",
              "      <td>-114.94</td>\n",
              "      <td>34.55</td>\n",
              "      <td>20.0</td>\n",
              "      <td>350.0</td>\n",
              "      <td>95.0</td>\n",
              "      <td>119.0</td>\n",
              "      <td>58.0</td>\n",
              "      <td>1.6250</td>\n",
              "      <td>50000.0</td>\n",
              "    </tr>\n",
              "    <tr>\n",
              "      <th>48</th>\n",
              "      <td>-115.51</td>\n",
              "      <td>32.99</td>\n",
              "      <td>20.0</td>\n",
              "      <td>1402.0</td>\n",
              "      <td>287.0</td>\n",
              "      <td>1104.0</td>\n",
              "      <td>317.0</td>\n",
              "      <td>1.9088</td>\n",
              "      <td>63700.0</td>\n",
              "    </tr>\n",
              "    <tr>\n",
              "      <th>80</th>\n",
              "      <td>-115.56</td>\n",
              "      <td>32.79</td>\n",
              "      <td>20.0</td>\n",
              "      <td>2372.0</td>\n",
              "      <td>835.0</td>\n",
              "      <td>2283.0</td>\n",
              "      <td>767.0</td>\n",
              "      <td>1.1707</td>\n",
              "      <td>62500.0</td>\n",
              "    </tr>\n",
              "    <tr>\n",
              "      <th>...</th>\n",
              "      <td>...</td>\n",
              "      <td>...</td>\n",
              "      <td>...</td>\n",
              "      <td>...</td>\n",
              "      <td>...</td>\n",
              "      <td>...</td>\n",
              "      <td>...</td>\n",
              "      <td>...</td>\n",
              "      <td>...</td>\n",
              "    </tr>\n",
              "    <tr>\n",
              "      <th>16851</th>\n",
              "      <td>-123.43</td>\n",
              "      <td>40.22</td>\n",
              "      <td>20.0</td>\n",
              "      <td>133.0</td>\n",
              "      <td>35.0</td>\n",
              "      <td>87.0</td>\n",
              "      <td>37.0</td>\n",
              "      <td>3.6250</td>\n",
              "      <td>67500.0</td>\n",
              "    </tr>\n",
              "    <tr>\n",
              "      <th>16855</th>\n",
              "      <td>-123.53</td>\n",
              "      <td>40.88</td>\n",
              "      <td>20.0</td>\n",
              "      <td>2680.0</td>\n",
              "      <td>599.0</td>\n",
              "      <td>918.0</td>\n",
              "      <td>345.0</td>\n",
              "      <td>2.2115</td>\n",
              "      <td>75000.0</td>\n",
              "    </tr>\n",
              "    <tr>\n",
              "      <th>16959</th>\n",
              "      <td>-124.16</td>\n",
              "      <td>40.95</td>\n",
              "      <td>20.0</td>\n",
              "      <td>1075.0</td>\n",
              "      <td>214.0</td>\n",
              "      <td>529.0</td>\n",
              "      <td>196.0</td>\n",
              "      <td>3.1406</td>\n",
              "      <td>96000.0</td>\n",
              "    </tr>\n",
              "    <tr>\n",
              "      <th>16968</th>\n",
              "      <td>-124.17</td>\n",
              "      <td>41.76</td>\n",
              "      <td>20.0</td>\n",
              "      <td>2673.0</td>\n",
              "      <td>538.0</td>\n",
              "      <td>1282.0</td>\n",
              "      <td>514.0</td>\n",
              "      <td>2.4605</td>\n",
              "      <td>105900.0</td>\n",
              "    </tr>\n",
              "    <tr>\n",
              "      <th>16988</th>\n",
              "      <td>-124.21</td>\n",
              "      <td>41.75</td>\n",
              "      <td>20.0</td>\n",
              "      <td>3810.0</td>\n",
              "      <td>787.0</td>\n",
              "      <td>1993.0</td>\n",
              "      <td>721.0</td>\n",
              "      <td>2.0074</td>\n",
              "      <td>66900.0</td>\n",
              "    </tr>\n",
              "  </tbody>\n",
              "</table>\n",
              "<p>383 rows × 9 columns</p>\n",
              "</div>"
            ],
            "text/plain": [
              "       longitude  latitude  ...  median_income  median_house_value\n",
              "4        -114.57     33.57  ...         1.9250             65500.0\n",
              "20       -114.68     33.49  ...         1.6395             44400.0\n",
              "22       -114.94     34.55  ...         1.6250             50000.0\n",
              "48       -115.51     32.99  ...         1.9088             63700.0\n",
              "80       -115.56     32.79  ...         1.1707             62500.0\n",
              "...          ...       ...  ...            ...                 ...\n",
              "16851    -123.43     40.22  ...         3.6250             67500.0\n",
              "16855    -123.53     40.88  ...         2.2115             75000.0\n",
              "16959    -124.16     40.95  ...         3.1406             96000.0\n",
              "16968    -124.17     41.76  ...         2.4605            105900.0\n",
              "16988    -124.21     41.75  ...         2.0074             66900.0\n",
              "\n",
              "[383 rows x 9 columns]"
            ]
          },
          "metadata": {
            "tags": []
          },
          "execution_count": 9
        }
      ]
    },
    {
      "cell_type": "code",
      "metadata": {
        "colab": {
          "base_uri": "https://localhost:8080/"
        },
        "id": "9gWMHjreeXi6",
        "outputId": "fef81854-f143-4ca3-e383-4917a5a88e03"
      },
      "source": [
        "df.population.mean()"
      ],
      "execution_count": null,
      "outputs": [
        {
          "output_type": "execute_result",
          "data": {
            "text/plain": [
              "1429.5739411764705"
            ]
          },
          "metadata": {
            "tags": []
          },
          "execution_count": 10
        }
      ]
    },
    {
      "cell_type": "code",
      "metadata": {
        "colab": {
          "base_uri": "https://localhost:8080/"
        },
        "id": "sby2PZulewJq",
        "outputId": "0f45174d-783c-42b3-bb5d-5b7ad0ae83aa"
      },
      "source": [
        "df.median_house_value.unique()"
      ],
      "execution_count": null,
      "outputs": [
        {
          "output_type": "execute_result",
          "data": {
            "text/plain": [
              "array([ 66900.,  80100.,  85700., ..., 119700.,  75100.,  80500.])"
            ]
          },
          "metadata": {
            "tags": []
          },
          "execution_count": 11
        }
      ]
    },
    {
      "cell_type": "code",
      "metadata": {
        "id": "HuBZg8SXfAF3",
        "colab": {
          "base_uri": "https://localhost:8080/"
        },
        "outputId": "000f3f29-b305-49fe-a59c-10e8f6860519"
      },
      "source": [
        "df.groupby('households').households.count()"
      ],
      "execution_count": null,
      "outputs": [
        {
          "output_type": "execute_result",
          "data": {
            "text/plain": [
              "households\n",
              "1.0       1\n",
              "2.0       2\n",
              "3.0       2\n",
              "4.0       4\n",
              "5.0       7\n",
              "         ..\n",
              "4616.0    1\n",
              "4769.0    1\n",
              "5050.0    1\n",
              "5189.0    1\n",
              "6082.0    1\n",
              "Name: households, Length: 1740, dtype: int64"
            ]
          },
          "metadata": {
            "tags": []
          },
          "execution_count": 14
        }
      ]
    },
    {
      "cell_type": "code",
      "metadata": {
        "colab": {
          "base_uri": "https://localhost:8080/",
          "height": 419
        },
        "id": "NGJ_eMR9BGRc",
        "outputId": "a88f85cb-5f99-4ac6-ad15-89a03583f871"
      },
      "source": [
        "df.sort_values(by='population')"
      ],
      "execution_count": null,
      "outputs": [
        {
          "output_type": "execute_result",
          "data": {
            "text/html": [
              "<div>\n",
              "<style scoped>\n",
              "    .dataframe tbody tr th:only-of-type {\n",
              "        vertical-align: middle;\n",
              "    }\n",
              "\n",
              "    .dataframe tbody tr th {\n",
              "        vertical-align: top;\n",
              "    }\n",
              "\n",
              "    .dataframe thead th {\n",
              "        text-align: right;\n",
              "    }\n",
              "</style>\n",
              "<table border=\"1\" class=\"dataframe\">\n",
              "  <thead>\n",
              "    <tr style=\"text-align: right;\">\n",
              "      <th></th>\n",
              "      <th>longitude</th>\n",
              "      <th>latitude</th>\n",
              "      <th>housing_median_age</th>\n",
              "      <th>total_rooms</th>\n",
              "      <th>total_bedrooms</th>\n",
              "      <th>population</th>\n",
              "      <th>households</th>\n",
              "      <th>median_income</th>\n",
              "      <th>median_house_value</th>\n",
              "    </tr>\n",
              "  </thead>\n",
              "  <tbody>\n",
              "    <tr>\n",
              "      <th>8232</th>\n",
              "      <td>-118.44</td>\n",
              "      <td>34.04</td>\n",
              "      <td>16.0</td>\n",
              "      <td>18.0</td>\n",
              "      <td>6.0</td>\n",
              "      <td>3.0</td>\n",
              "      <td>4.0</td>\n",
              "      <td>0.5360</td>\n",
              "      <td>350000.0</td>\n",
              "    </tr>\n",
              "    <tr>\n",
              "      <th>2990</th>\n",
              "      <td>-117.79</td>\n",
              "      <td>35.21</td>\n",
              "      <td>4.0</td>\n",
              "      <td>2.0</td>\n",
              "      <td>2.0</td>\n",
              "      <td>6.0</td>\n",
              "      <td>2.0</td>\n",
              "      <td>2.3750</td>\n",
              "      <td>137500.0</td>\n",
              "    </tr>\n",
              "    <tr>\n",
              "      <th>2907</th>\n",
              "      <td>-117.76</td>\n",
              "      <td>35.22</td>\n",
              "      <td>4.0</td>\n",
              "      <td>18.0</td>\n",
              "      <td>3.0</td>\n",
              "      <td>8.0</td>\n",
              "      <td>6.0</td>\n",
              "      <td>1.6250</td>\n",
              "      <td>275000.0</td>\n",
              "    </tr>\n",
              "    <tr>\n",
              "      <th>14105</th>\n",
              "      <td>-122.06</td>\n",
              "      <td>37.39</td>\n",
              "      <td>26.0</td>\n",
              "      <td>18.0</td>\n",
              "      <td>4.0</td>\n",
              "      <td>8.0</td>\n",
              "      <td>4.0</td>\n",
              "      <td>3.7500</td>\n",
              "      <td>375000.0</td>\n",
              "    </tr>\n",
              "    <tr>\n",
              "      <th>288</th>\n",
              "      <td>-116.76</td>\n",
              "      <td>34.14</td>\n",
              "      <td>4.0</td>\n",
              "      <td>42.0</td>\n",
              "      <td>10.0</td>\n",
              "      <td>9.0</td>\n",
              "      <td>3.0</td>\n",
              "      <td>0.5360</td>\n",
              "      <td>42500.0</td>\n",
              "    </tr>\n",
              "    <tr>\n",
              "      <th>...</th>\n",
              "      <td>...</td>\n",
              "      <td>...</td>\n",
              "      <td>...</td>\n",
              "      <td>...</td>\n",
              "      <td>...</td>\n",
              "      <td>...</td>\n",
              "      <td>...</td>\n",
              "      <td>...</td>\n",
              "      <td>...</td>\n",
              "    </tr>\n",
              "    <tr>\n",
              "      <th>3296</th>\n",
              "      <td>-117.87</td>\n",
              "      <td>34.04</td>\n",
              "      <td>7.0</td>\n",
              "      <td>27700.0</td>\n",
              "      <td>4179.0</td>\n",
              "      <td>15037.0</td>\n",
              "      <td>4072.0</td>\n",
              "      <td>6.6288</td>\n",
              "      <td>339700.0</td>\n",
              "    </tr>\n",
              "    <tr>\n",
              "      <th>2969</th>\n",
              "      <td>-117.78</td>\n",
              "      <td>34.03</td>\n",
              "      <td>8.0</td>\n",
              "      <td>32054.0</td>\n",
              "      <td>5290.0</td>\n",
              "      <td>15507.0</td>\n",
              "      <td>5050.0</td>\n",
              "      <td>6.0191</td>\n",
              "      <td>253900.0</td>\n",
              "    </tr>\n",
              "    <tr>\n",
              "      <th>2871</th>\n",
              "      <td>-117.74</td>\n",
              "      <td>33.89</td>\n",
              "      <td>4.0</td>\n",
              "      <td>37937.0</td>\n",
              "      <td>5471.0</td>\n",
              "      <td>16122.0</td>\n",
              "      <td>5189.0</td>\n",
              "      <td>7.4947</td>\n",
              "      <td>366300.0</td>\n",
              "    </tr>\n",
              "    <tr>\n",
              "      <th>12772</th>\n",
              "      <td>-121.79</td>\n",
              "      <td>36.64</td>\n",
              "      <td>11.0</td>\n",
              "      <td>32627.0</td>\n",
              "      <td>6445.0</td>\n",
              "      <td>28566.0</td>\n",
              "      <td>6082.0</td>\n",
              "      <td>2.3087</td>\n",
              "      <td>118800.0</td>\n",
              "    </tr>\n",
              "    <tr>\n",
              "      <th>2274</th>\n",
              "      <td>-117.42</td>\n",
              "      <td>33.35</td>\n",
              "      <td>14.0</td>\n",
              "      <td>25135.0</td>\n",
              "      <td>4819.0</td>\n",
              "      <td>35682.0</td>\n",
              "      <td>4769.0</td>\n",
              "      <td>2.5729</td>\n",
              "      <td>134400.0</td>\n",
              "    </tr>\n",
              "  </tbody>\n",
              "</table>\n",
              "<p>17000 rows × 9 columns</p>\n",
              "</div>"
            ],
            "text/plain": [
              "       longitude  latitude  ...  median_income  median_house_value\n",
              "8232     -118.44     34.04  ...         0.5360            350000.0\n",
              "2990     -117.79     35.21  ...         2.3750            137500.0\n",
              "2907     -117.76     35.22  ...         1.6250            275000.0\n",
              "14105    -122.06     37.39  ...         3.7500            375000.0\n",
              "288      -116.76     34.14  ...         0.5360             42500.0\n",
              "...          ...       ...  ...            ...                 ...\n",
              "3296     -117.87     34.04  ...         6.6288            339700.0\n",
              "2969     -117.78     34.03  ...         6.0191            253900.0\n",
              "2871     -117.74     33.89  ...         7.4947            366300.0\n",
              "12772    -121.79     36.64  ...         2.3087            118800.0\n",
              "2274     -117.42     33.35  ...         2.5729            134400.0\n",
              "\n",
              "[17000 rows x 9 columns]"
            ]
          },
          "metadata": {
            "tags": []
          },
          "execution_count": 15
        }
      ]
    },
    {
      "cell_type": "code",
      "metadata": {
        "colab": {
          "base_uri": "https://localhost:8080/"
        },
        "id": "qwXrxM2CWxTk",
        "outputId": "510c07be-9e35-4d1a-9a0f-daad48fbf5dc"
      },
      "source": [
        "df.groupby(['housing_median_age','households']).size().sort_values(ascending=False) #it will show the numberof households with a paticular meadian age \n",
        "#the below example is form kaggle practise of pandas           \n",
        "\"\"\"\n",
        "US       Pinot Noir                  9885\n",
        "         Cabernet Sauvignon          7315\n",
        "         Chardonnay                  6801\n",
        "France   Bordeaux-style Red Blend    4725\n",
        "Italy    Red Blend                   3624\n",
        "                                     ... \n",
        "Mexico   Cinsault                       1\n",
        "         Grenache                       1\n",
        "         Merlot                         1\n",
        "         Rosado                         1\n",
        "Uruguay  White Blend                    1\n",
        "Length: 1612, dtype: int64\n",
        "\"\"\"\n"
      ],
      "execution_count": null,
      "outputs": [
        {
          "output_type": "execute_result",
          "data": {
            "text/plain": [
              "housing_median_age  households\n",
              "52.0                249.0         7\n",
              "                    424.0         7\n",
              "36.0                337.0         7\n",
              "52.0                297.0         6\n",
              "                    380.0         6\n",
              "                                 ..\n",
              "31.0                771.0         1\n",
              "                    760.0         1\n",
              "                    757.0         1\n",
              "                    754.0         1\n",
              "1.0                 112.0         1\n",
              "Length: 13175, dtype: int64"
            ]
          },
          "metadata": {
            "tags": []
          },
          "execution_count": 20
        }
      ]
    },
    {
      "cell_type": "code",
      "metadata": {
        "colab": {
          "base_uri": "https://localhost:8080/"
        },
        "id": "81wmgAYbmgxx",
        "outputId": "33955f3d-bb7c-46b9-ad10-aec7be51026e"
      },
      "source": [
        "df.groupby('total_rooms').median_house_value.mean()  #it shows the meanvalue for the index value in this case it is the total rooms "
      ],
      "execution_count": null,
      "outputs": [
        {
          "output_type": "execute_result",
          "data": {
            "text/plain": [
              "total_rooms\n",
              "2.0        137500.0\n",
              "8.0        500001.0\n",
              "11.0       162500.0\n",
              "12.0        67500.0\n",
              "15.0       256250.0\n",
              "             ...   \n",
              "30401.0    212300.0\n",
              "30405.0    399200.0\n",
              "32054.0    253900.0\n",
              "32627.0    118800.0\n",
              "37937.0    366300.0\n",
              "Name: median_house_value, Length: 5533, dtype: float64"
            ]
          },
          "metadata": {
            "tags": []
          },
          "execution_count": 24
        }
      ]
    },
    {
      "cell_type": "code",
      "metadata": {
        "id": "oENq5Kq9nA0c"
      },
      "source": [
        "  "
      ],
      "execution_count": null,
      "outputs": []
    }
  ]
}